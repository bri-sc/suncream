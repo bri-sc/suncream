{
 "cells": [
  {
   "cell_type": "markdown",
   "metadata": {},
   "source": [
    "# Big Data Assessment of Measurement Accuracy in Suncreams\n",
    "\n",
    "Suncream (also known as sunblock or suntan lotion) is an essential cosmetic product that protects skin from the sun's harmful ultraviolet (UV) light.\n",
    "The active ingredient in many suncream products is titanium dioxide, which absorbs the sun's harmful light, limiting its impact on our skin. \n",
    "However, companies that produce suncream frequently fail to report the amount of titanium dioxide in their products. \n",
    "\n",
    "Analytical scientists can use experimental measurements to estimate the amount of titanium dioxide in a suncream. \n",
    "This approach involves the calibration of instrumentation with samples of a known concentration. \n",
    "The calibrated instrumentation can then be used to estimate the titanium dioxide concentration in the unknown sample. \n",
    "Instrument calibration is an exercise in big data, and we must interpret our results using statistics and data modelling.\n",
    "\n",
    "## Getting Started with Jupyter\n",
    "\n",
    "Previously, you may have interacted with a Jupyter Notebook. \n",
    "But before starting the data analysis, we will quickly refresh some important aspects. \n",
    "\n",
    "### Interface Elements\n",
    "\n",
    "There are a few parts of the Notebook interface that to draw attention to:\n",
    "\n",
    "1. The **Notebook/file tabs**. Similar to modern web browsers, JupyterLab allows many files to be open simultaneously within a tabbed interface. \n",
    "2. The **toolbar** contains buttons for common actions relating to working with Notebooks, hovering over the button with the cursor will pop up relevant information.\n",
    "3. The **cell**, which depending on the type, Python code or Markdown can be written in this box. \n",
    "4. Indictates if a cell has been run or not, when the cell has not been run it will read `In [ ]:` and run cells will have `In [x]:`, where `x` is a number that indicates the order that the cells were run. \n",
    "\n",
    "![](./images/interface.png)\n",
    "Some important interface elements in the Jupyter Notebook.\n",
    "\n",
    "### Cells\n",
    "\n",
    "Cells make up the body of a Notebook. \n",
    "When a new Notebook is opened, it will contain a single empty cell. \n",
    "Other cells can be added below the currently selected one by running the cell, pressing the \"+\" button in the toolbar or by using the keyboard shortcut of pressing \"B\" (the shortcut \"A\" can be used to add a cell above the currently selected one).\n",
    "Cells can be of different types, there are two particularly important ones to be aware of. \n",
    "\n",
    "#### Code Cells\n",
    "\n",
    "A code cell contains Python code that can be executed. \n",
    "When the cell is run, the notebook will display any output from the final line of the cell in the corresponding cell. \n",
    "\n",
    "![](./images/code-cell.png)\n",
    "An example of a code cell that has been run, the Python code in the cell performs the addition of 4 and 3 to give 7 as a return.\n",
    "\n",
    "A cell is run by either clicking on the &#9658; icon in the toolbar or using \"Control + Enter\" (Windows) or \"Command + Enter\" (macOS) on the keyboard.\n",
    "When the cell is run, the phrase should be printed below the code cell. \n",
    "\n",
    "#### Markdown Cells\n",
    "\n",
    "The type of cell can be changed using the drop-down menu in the toolbar. \n",
    "After \"Code\", the most important type of cell is \"Markdown\". \n",
    "A markdown cell contains text that is formatted using [Markdown](https://www.markdownguide.org), which is a lightweight markup language for writing HTML documents. \n",
    "When a markdown cell is \"run\", the markdown is formatted to HTML, and the formatted text is shown in place of the cell.\n",
    "\n",
    "![](./images/markdown.png)\n",
    "A markdown cell that has not been run yet, showing the raw markdown.\n",
    "\n",
    "![](./images/markdown-rendered.png)\n",
    "The rendered markdown, with the nicely formatted equations.\n",
    "\n",
    "#### Active Cells\n",
    "\n",
    "The currently active cell is indicated by being highlighted.\n",
    "The presence of the cursor, the blinking `|` symbol, indicates that the cell is currently in either the command or edit mode. \n",
    "\n",
    "##### Command Mode\n",
    "\n",
    "When in command mode, the cell content cannot be edited but keyboard shortcuts can be used to cut, paste, and move whole cells. \n",
    "All of the keyboard shortcuts can be found [online](https://towardsdatascience.com/jypyter-notebook-shortcuts-bf0101a98330).\n",
    "\n",
    "![](./images/command.png)\n",
    "A Notebook cell in command mode.\n",
    "\n",
    "##### Edit Mode\n",
    "\n",
    "From command mode, pressing Enter or clicking in the input text area of a cell will switch the cell to edit mode. \n",
    "When in edit mode, code or markdown can be written. \n",
    "\n",
    "![](./images/edit-cursor.gif)\n",
    "A Notebook cell in edit mode.\n",
    "\n",
    "## How We Will Work\n",
    "\n",
    "In this workshop, there are some code cells that you should run without modification and some that require editing. \n",
    "Those that require editing will have `◽◽◽` symbols in them and will raise an error if run without changing them. \n",
    "\n",
    "> **Task 1.1**\n",
    "> \n",
    "> Run the code cell below; you should see the output `Hello World!` below the code cell. \n",
    "> "
   ]
  },
  {
   "cell_type": "code",
   "execution_count": null,
   "metadata": {},
   "outputs": [],
   "source": [
    "print('Hello World!')"
   ]
  },
  {
   "cell_type": "markdown",
   "metadata": {},
   "source": [
    "> **Task 1.2**\n",
    "> \n",
    "> Using the code cell below, calculate the `1 + 2 + 3 + 4 + 5`. \n",
    "> Note that you need to change the `◽◽◽` with your own input. \n",
    "> "
   ]
  },
  {
   "cell_type": "code",
   "execution_count": null,
   "metadata": {},
   "outputs": [],
   "source": [
    "◽◽◽"
   ]
  },
  {
   "cell_type": "markdown",
   "metadata": {},
   "source": [
    "> **Task 1.3**\n",
    "> \n",
    "> Complete the function below to find the square root of 25. \n",
    ">"
   ]
  },
  {
   "cell_type": "code",
   "execution_count": null,
   "metadata": {},
   "outputs": [],
   "source": [
    "import numpy as np\n",
    "\n",
    "print(np.sqrt(◽◽◽))"
   ]
  },
  {
   "cell_type": "markdown",
   "metadata": {},
   "source": [
    "## Background \n",
    "\n",
    "Analytical scientists use the Beer-Lambert law to measure the concentration of a species in solution. \n",
    "The Beer-Lambert law has the following form, \n",
    "\n",
    "$$\n",
    "A = \\varepsilon l c,\n",
    "$$\n",
    "\n",
    "where, $A$ is the absorbance of a given wavelength of light by a solution of concentration, $c$, over a distance of path length, $l$, and $\\varepsilon$ is the molar absorption coefficient of the species of interest.\n",
    "$\\varepsilon$ is not generally known for a given species; therefore, it is necessary to produce what is known as a calibration curve. \n",
    "\n",
    "A calibration curve is made by making solutions of known concentration of the given species and measuring the absorbance. \n",
    "Since the relation above is linear, plotting this data will give a straight line where the gradient is $\\varepsilon l$ and $l$ is a component of the measurement device (this is also known to the scientist).\n",
    "\n",
    "With knowledge of $\\varepsilon$, it is then possible to rearrange the equation above to give, \n",
    "\n",
    "$$\n",
    "c = \\frac{A}{\\varepsilon l}.\n",
    "$$\n",
    "\n",
    "This rearrangement means measuring $A$ for some known new solution and estimating its concentration is possible. \n",
    "\n",
    "In this workshop, we will use this same process to estimate the concentration of titanium dioxide in a sample of suncream; we will also consider the error bounds on this measurement. \n",
    "First, we will read in a large dataset to provide an accurate estimate of the gradient and an uncertainty bound on this value. \n",
    "\n",
    "## Data Ingestion and Inspection\n",
    "\n",
    "In this workshop, we will be trying to interpret data collected by hundreds of analytical scientists worldwide. \n",
    "Luckily, the scientists have agreed on a single way to store their data, and someone has compiled it into a single file. \n",
    "The Python function below lets us read this file into the computer's memory. \n",
    "\n",
    "> **Task 2.1**\n",
    "> \n",
    "> Run the cell below; this will output a table of data. \n",
    "> This table is a `pandas.DataFrame` object, with the variable name `data`, that we will work with throughout. \n",
    ">"
   ]
  },
  {
   "cell_type": "code",
   "execution_count": null,
   "metadata": {},
   "outputs": [],
   "source": [
    "import pandas as pd\n",
    "\n",
    "data = pd.read_csv('data.csv')\n",
    "data"
   ]
  },
  {
   "cell_type": "markdown",
   "metadata": {},
   "source": [
    "> **Task 2.2**\n",
    ">\n",
    "> Look at the table above; how many scientists contributed data?\n",
    "> Run the cell below; what information has been output?\n",
    ">"
   ]
  },
  {
   "cell_type": "code",
   "execution_count": null,
   "metadata": {},
   "outputs": [],
   "source": [
    "data.shape"
   ]
  },
  {
   "cell_type": "markdown",
   "metadata": {},
   "source": [
    "The cell below will produce a histogram of the absorbance values at 0.000939 mol/L measured by each scientist. \n",
    "This concentration is the row of data with the index of `3` (note that there is a 3 at the start of that row in the table above). \n",
    "We do not want to include the `Concentration` column in our histogram. \n",
    "Therefore, we only want from the 2nd column onwards, which in Python is written with the index `1:` (Python counts indices from zero).\n",
    "Therefore, we use the property `iloc[3, 1:]` to access this data and histogram it."
   ]
  },
  {
   "cell_type": "code",
   "execution_count": null,
   "metadata": {},
   "outputs": [],
   "source": [
    "ax = data.iloc[3, 1:].hist()\n",
    "ax.set_xlabel('Absorbance')\n",
    "ax.set_ylabel('Frequency')"
   ]
  },
  {
   "cell_type": "markdown",
   "metadata": {},
   "source": [
    "> **Task 2.3**\n",
    ">\n",
    "> You will be assigned to a breakout room in your group to compare and discuss the data distribution above.\n",
    "> \n",
    "> Below are some examples of common data distributions; which is the most similar to the data above?\n",
    ">\n",
    "![Examples of four common statistical distributions: Normal, log-Normal, Uniform, Chi-squared](./distributions.png)"
   ]
  },
  {
   "cell_type": "markdown",
   "metadata": {},
   "source": [
    "A summary of the data in the histogram can be generated with the `describe()` method. \n",
    "This gives what is known as summary statistics. "
   ]
  },
  {
   "cell_type": "code",
   "execution_count": null,
   "metadata": {},
   "outputs": [],
   "source": [
    "data.iloc[3, 1:].describe()"
   ]
  },
  {
   "cell_type": "markdown",
   "metadata": {},
   "source": [
    "> **Task 2.4**\n",
    ">\n",
    "> In your breakout rooms, discuss your understanding of a data set's *mean* and *standard deviation* and why there is a variation in the measured absorbance between the different scientists. \n",
    ">\n",
    "\n",
    "## Calculation of $\\varepsilon$\n",
    "\n",
    "We discussed above that the calibration curve aims to estimate the value of the molar absorption coefficient, $\\varepsilon$.\n",
    "The estimation of $\\varepsilon$ is found by calculating the gradient of the straight line, where the concentration is the *x*-axis and the absorbance is the *y*-axis. \n",
    "The gradient is calculated for one of the scientist's measurements with the code below. "
   ]
  },
  {
   "cell_type": "code",
   "execution_count": null,
   "metadata": {},
   "outputs": [],
   "source": [
    "from scipy.stats import linregress\n",
    "\n",
    "linregress(data['Concentration'], data['Scientist 1'])"
   ]
  },
  {
   "cell_type": "markdown",
   "metadata": {},
   "source": [
    "Notice that this returns the `slope` and the `intercept`. \n",
    "The slope is analogous to the gradient, and since the measurements were made with a 1 cm cuvette, we can substitute a value of $1$ for $l$ and get the value of $\\varepsilon$. \n",
    "$\\varepsilon$ estimated by the first scientist was 774.87 M<sup>-1</sup>cm<sup>-1</sup>.\n",
    "We noticed above that there was a variation in the measured absorbance; therefore, there will also be a variation in the estimate of $\\varepsilon$. \n",
    "\n",
    "> **Task 3.1**\n",
    "> \n",
    "> How do you think we would calculate the variance in the estimates of $\\varepsilon$?\n",
    "> Consider how you can use computers to perform repetitive tasks. \n",
    ">\n",
    "\n",
    "Computers are great at repeating the same process; unlike humans, they don't get bored. \n",
    "\n",
    "> **Task 3.2**\n",
    ">\n",
    "> Below is a Python loop; complete the code inside the loop (again by changing the `◽◽◽`) to use the `linregress` function (see above) and print the `LinregressResult` for every scientist's data. \n",
    ">"
   ]
  },
  {
   "cell_type": "code",
   "execution_count": null,
   "metadata": {},
   "outputs": [],
   "source": [
    "for i in range(1, 517):\n",
    "    print(◽◽◽(data['Concentration'], data[f'Scientist {i}']))"
   ]
  },
  {
   "cell_type": "markdown",
   "metadata": {},
   "source": [
    "An important tool in data science is linear algebra, which is the backbone of modern machine learning methods. \n",
    "Linear algebra is important in machine learning as it enables the manipulation of large amounts of data in computationally efficient ways. \n",
    "Below is the code to compute $\\varepsilon$ for all datasets using linear algebra."
   ]
  },
  {
   "cell_type": "code",
   "execution_count": null,
   "metadata": {},
   "outputs": [],
   "source": [
    "import numpy as np\n",
    "\n",
    "X = np.array([data.iloc[:, 0]]).T\n",
    "y = np.array(data.iloc[:, 1:])\n",
    "epsilon = pd.Series((np.linalg.inv(X.T @ X) @ X.T @ y)[0])\n",
    "epsilon.describe()"
   ]
  },
  {
   "cell_type": "markdown",
   "metadata": {},
   "source": [
    "> **Task 3.3**\n",
    "> \n",
    "> Similar to the histogram above, modify the cell below to plot the histogram of estimated epsilon values.\n",
    ">"
   ]
  },
  {
   "cell_type": "code",
   "execution_count": null,
   "metadata": {},
   "outputs": [],
   "source": [
    "ax = epsilon.◽◽◽()\n",
    "ax.set_xlabel('Epsilon')\n",
    "ax.set_ylabel('Frequency')"
   ]
  },
  {
   "cell_type": "markdown",
   "metadata": {},
   "source": [
    "## Estimation of Concentration of Unknown\n",
    "\n",
    "From the calibrated value of $\\varepsilon$, the concentration of some solution can be estimated by rearranging the Beer-Lambert law. \n",
    "However, instead of a single value for $\\varepsilon$, we have a distribution of values.\n",
    "Therefore, we can estimate a range of concentrations for a single absorbance. \n",
    "\n",
    "> **Task 4.1**\n",
    ">\n",
    "> In the cell below, Using the rearranged Beer-Lambert law, calculate the distribution of concentration values for a measured absorbance of 0.42647.\n",
    "> Store this distribution as the variable `new_concentration`.\n",
    ">"
   ]
  },
  {
   "cell_type": "code",
   "execution_count": null,
   "metadata": {},
   "outputs": [],
   "source": [
    "◽◽◽"
   ]
  },
  {
   "cell_type": "markdown",
   "metadata": {},
   "source": [
    "> **Task 4.2**\n",
    "> \n",
    "> Use the `describe` method from above to probe the summary statistics of this result in the cell below.\n",
    ">"
   ]
  },
  {
   "cell_type": "code",
   "execution_count": null,
   "metadata": {},
   "outputs": [],
   "source": [
    "◽◽◽"
   ]
  },
  {
   "cell_type": "markdown",
   "metadata": {},
   "source": [
    "> **Task 4.3**\n",
    "> \n",
    "> Finally, plot the histogram of this distribution in the cell below. \n",
    ">"
   ]
  },
  {
   "cell_type": "code",
   "execution_count": null,
   "metadata": {},
   "outputs": [],
   "source": [
    "◽◽◽"
   ]
  }
 ],
 "metadata": {
  "kernelspec": {
   "display_name": "intensive",
   "language": "python",
   "name": "python3"
  },
  "language_info": {
   "codemirror_mode": {
    "name": "ipython",
    "version": 3
   },
   "file_extension": ".py",
   "mimetype": "text/x-python",
   "name": "python",
   "nbconvert_exporter": "python",
   "pygments_lexer": "ipython3",
   "version": "3.10.13"
  }
 },
 "nbformat": 4,
 "nbformat_minor": 2
}
